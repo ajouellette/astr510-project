{
 "cells": [
  {
   "cell_type": "code",
   "execution_count": null,
   "id": "780c9391-4939-40b4-aaef-d0de57b12cbe",
   "metadata": {},
   "outputs": [],
   "source": [
    "import numpy as np\n",
    "import matplotlib.pyplot as plt\n",
    "from matplotlib.colors import LogNorm\n",
    "from gadgetutils import snapshot, utils"
   ]
  },
  {
   "cell_type": "code",
   "execution_count": null,
   "id": "335de245-dec9-4ba7-9ab8-fa29aeb8ad18",
   "metadata": {},
   "outputs": [],
   "source": [
    "plt.style.use([\"science\", \"notebook\"])"
   ]
  },
  {
   "cell_type": "code",
   "execution_count": null,
   "id": "931558ad-42ae-42bb-85f8-e699a84057ea",
   "metadata": {},
   "outputs": [],
   "source": [
    "run = 14\n",
    "\n",
    "center = np.array([0, 0, 0])\n",
    "\n",
    "pd = snapshot.load(f\"/home/aaronjo2/caps/astr510_sims/run{run}/snapshot_002.hdf5\", load_vels=False, load_ids=False)\n",
    "pos = utils.center_box_pbc(pd.pos, center, pd.box_size)\n",
    "mask = np.nonzero(np.abs(pos[:,2]) < 20)\n",
    "\n",
    "ratio = 1\n",
    "x_size = 8\n",
    "\n",
    "plt.figure(figsize=(x_size, ratio*x_size), dpi=300, frameon=False)\n",
    "x_extent = pd.box_size / 2\n",
    "y_extent = ratio * x_extent\n",
    "plt.hexbin(pos[mask,0], pos[mask,1], cmap=\"inferno\", norm=LogNorm(), gridsize=300, extent=(-x_extent,x_extent, -y_extent,y_extent))\n",
    "plt.axis('off')\n",
    "plt.show()"
   ]
  },
  {
   "cell_type": "code",
   "execution_count": null,
   "id": "034ed3a3-ea50-4cfd-ac7e-fdb6ba8d5fb8",
   "metadata": {},
   "outputs": [],
   "source": [
    "run = 14\n",
    "\n",
    "center_slice = np.array([0, 0, 0])\n",
    "hc = snapshot.load(f\"/home/aaronjo2/caps/astr510_sims/run{run}/fof_subhalo_tab_004.hdf5\")\n",
    "center_halo = hc.pos[0]\n",
    "\n",
    "fig = plt.figure(figsize=(24,16), dpi=300, frameon=False)\n",
    "\n",
    "for i in range(3):\n",
    "    print(i, \"starting slice\")\n",
    "    pd = snapshot.load(f\"/home/aaronjo2/caps/astr510_sims/run{run}/snapshot_{i:03}.hdf5\", load_vels=False, load_ids=False)\n",
    "    pos = utils.center_box_pbc(pd.pos, center_slice, pd.box_size)\n",
    "    mask = np.nonzero(np.abs(pos[:,2]) < 20)\n",
    "\n",
    "    plt.subplot(2,3,i+1)\n",
    "    plt.hexbin(pos[mask,0], pos[mask,1], cmap=\"inferno\", norm=LogNorm(), gridsize=300)\n",
    "    plt.axis('off')\n",
    "    plt.title(f\"$a={pd.a:.1f}$, $z={pd.z:.1f}$\", fontsize=24)\n",
    "    \n",
    "    print(i, \"starting halo\")\n",
    "    pos = utils.center_box_pbc(pd.pos, center_halo, pd.box_size)\n",
    "    mask = np.nonzero(np.prod(np.abs(pos) < 5, axis=1))\n",
    "    plt.subplot(2,3,i+4)\n",
    "    plt.hexbin(pos[mask,0], pos[mask,1], cmap=\"inferno\", norm=LogNorm(), gridsize=300, mincnt=1)\n",
    "    plt.axis('off')\n",
    "    \n",
    "fig.tight_layout()\n",
    "plt.show()"
   ]
  },
  {
   "cell_type": "code",
   "execution_count": null,
   "id": "a9bee1cd-0782-4d21-bab6-534a76b3f2e3",
   "metadata": {},
   "outputs": [],
   "source": []
  }
 ],
 "metadata": {
  "kernelspec": {
   "display_name": "Python 3 (ipykernel)",
   "language": "python",
   "name": "python3"
  },
  "language_info": {
   "codemirror_mode": {
    "name": "ipython",
    "version": 3
   },
   "file_extension": ".py",
   "mimetype": "text/x-python",
   "name": "python",
   "nbconvert_exporter": "python",
   "pygments_lexer": "ipython3",
   "version": "3.9.7"
  }
 },
 "nbformat": 4,
 "nbformat_minor": 5
}
